{
 "cells": [
  {
   "metadata": {},
   "cell_type": "code",
   "outputs": [],
   "execution_count": null,
   "source": "# STT : Whisper",
   "id": "be9a58126b783363"
  },
  {
   "cell_type": "code",
   "id": "initial_id",
   "metadata": {
    "collapsed": true,
    "ExecuteTime": {
     "end_time": "2025-07-07T05:08:24.817876Z",
     "start_time": "2025-07-07T05:07:48.590700Z"
    }
   },
   "source": [
    "import whisper  \n",
    "\n",
    "model = whisper.load_model(\"medium\")  # or \"small\", \"large\"\n",
    "result = model.transcribe(\"C:\\\\workspaces\\\\tajo_workspace\\\\api_test\\\\test_files\\\\노인남여_노인대화07_F_1522434093_60_경상_실내_08582.wav\", language=\"ko\")\n",
    "print(result[\"text\"])"
   ],
   "outputs": [
    {
     "name": "stdout",
     "output_type": "stream",
     "text": [
      " 노을을 같이 보내야 되지 않을까 싶네요.\n"
     ]
    }
   ],
   "execution_count": 4
  },
  {
   "metadata": {},
   "cell_type": "code",
   "outputs": [],
   "execution_count": null,
   "source": [
    "result = model.transcribe(\"C:\\\\workspaces\\\\tajo_workspace\\\\api_test\\\\test_files\\\\노인남여_노인대화07_F_1522434093_60_경상_실내_08582.wav\", language=\"ko\")\n",
    "print(result[\"text\"])"
   ],
   "id": "d7be4c584e57bd9e"
  },
  {
   "metadata": {
    "ExecuteTime": {
     "end_time": "2025-07-07T06:32:05.003868Z",
     "start_time": "2025-07-07T06:32:04.989867Z"
    }
   },
   "cell_type": "code",
   "source": [
    "import os\n",
    "folder_path = \"C:\\\\workspaces\\\\tajo_workspace\\\\api_test\\\\test_files\""
   ],
   "id": "fcf1b241ef216c48",
   "outputs": [],
   "execution_count": 6
  },
  {
   "metadata": {
    "ExecuteTime": {
     "end_time": "2025-07-07T06:33:50.453108Z",
     "start_time": "2025-07-07T06:32:05.792314Z"
    }
   },
   "cell_type": "code",
   "source": [
    "for filename in os.listdir(folder_path):\n",
    "    if filename.lower().endswith(('.mp3', '.wav', '.m4a', '.flac')):\n",
    "        file_path = os.path.join(folder_path, filename)\n",
    "        print(f\"🎧 Processing: {filename}\")\n",
    "        result = model.transcribe(file_path, language='ko')\n",
    "        print(f\"📝 Result for {filename}:\\n{result['text']}\\n\")"
   ],
   "id": "ec76d0dd7b149c65",
   "outputs": [
    {
     "name": "stdout",
     "output_type": "stream",
     "text": [
      "🎧 Processing: 노인남여_노인대화07_F_1522434093_60_경상_실내_08582.wav\n",
      "📝 Result for 노인남여_노인대화07_F_1522434093_60_경상_실내_08582.wav:\n",
      " 노을을 같이 보내야 되지 않을까 싶네요.\n",
      "\n",
      "🎧 Processing: 노인남여_노인대화07_F_1522434093_60_경상_실내_08584.wav\n",
      "📝 Result for 노인남여_노인대화07_F_1522434093_60_경상_실내_08584.wav:\n",
      " 잔디씨가 좋아하는 연예인은 누구에요?\n",
      "\n",
      "🎧 Processing: 노인남여_노인대화07_F_1522434093_60_경상_실내_08585.wav\n",
      "📝 Result for 노인남여_노인대화07_F_1522434093_60_경상_실내_08585.wav:\n",
      " 가장 좋아하는 프로그램은 제가 같은 경우는 아는형님이나\n",
      "\n",
      "🎧 Processing: 노인남여_노인대화07_M_1520916170_75_수도권_실내_07752.wav\n",
      "📝 Result for 노인남여_노인대화07_M_1520916170_75_수도권_실내_07752.wav:\n",
      " 우리 둘이 그거를 받아서 열심히 먹었어\n",
      "\n",
      "🎧 Processing: 노인남여_노인대화07_M_1520916170_75_수도권_실내_07754.wav\n",
      "📝 Result for 노인남여_노인대화07_M_1520916170_75_수도권_실내_07754.wav:\n",
      " 이제부터는 신경 써야 될 것 같아\n",
      "\n",
      "🎧 Processing: 노인남여_노인대화07_M_1520916170_75_수도권_실내_07758.wav\n",
      "📝 Result for 노인남여_노인대화07_M_1520916170_75_수도권_실내_07758.wav:\n",
      " 입은 달고 운동은 하기 싫고 하루 종일 책상에 앉아 있잖아\n",
      "\n",
      "🎧 Processing: 노인남여_노인대화12_F_1527825984_71_충청_실내_14761.wav\n",
      "📝 Result for 노인남여_노인대화12_F_1527825984_71_충청_실내_14761.wav:\n",
      " 다 좋은 직장만 가려고 하고 높은 데만 가려고 하니까\n",
      "\n",
      "🎧 Processing: 노인남여_노인대화12_F_1527825984_71_충청_실내_14768.wav\n",
      "📝 Result for 노인남여_노인대화12_F_1527825984_71_충청_실내_14768.wav:\n",
      " 종훈 씨, 직장 가야 된다. 여기에만 신경 썼지.\n",
      "\n"
     ]
    }
   ],
   "execution_count": 7
  },
  {
   "metadata": {
    "ExecuteTime": {
     "end_time": "2025-07-07T06:35:39.552528Z",
     "start_time": "2025-07-07T06:34:50.110020Z"
    }
   },
   "cell_type": "code",
   "source": "model = whisper.load_model(\"small\")  # or \"small\", \"large\"",
   "id": "d48f15ceb02bf9a8",
   "outputs": [
    {
     "name": "stderr",
     "output_type": "stream",
     "text": [
      "100%|███████████████████████████████████████| 461M/461M [00:45<00:00, 10.5MiB/s]\n"
     ]
    }
   ],
   "execution_count": 8
  },
  {
   "metadata": {
    "ExecuteTime": {
     "end_time": "2025-07-07T06:36:14.525727Z",
     "start_time": "2025-07-07T06:35:42.537454Z"
    }
   },
   "cell_type": "code",
   "source": [
    "for filename in os.listdir(folder_path):\n",
    "    if filename.lower().endswith(('.mp3', '.wav', '.m4a', '.flac')):\n",
    "        file_path = os.path.join(folder_path, filename)\n",
    "        print(f\"🎧 Processing: {filename}\")\n",
    "        result = model.transcribe(file_path, language='ko')\n",
    "        print(f\"📝 Result for {filename}:\\n{result['text']}\\n\")"
   ],
   "id": "bc45e10b93ea5fef",
   "outputs": [
    {
     "name": "stdout",
     "output_type": "stream",
     "text": [
      "🎧 Processing: 노인남여_노인대화07_F_1522434093_60_경상_실내_08582.wav\n",
      "📝 Result for 노인남여_노인대화07_F_1522434093_60_경상_실내_08582.wav:\n",
      " 노을을 같이 보내야 하지 않을까 싶네요.\n",
      "\n",
      "🎧 Processing: 노인남여_노인대화07_F_1522434093_60_경상_실내_08584.wav\n",
      "📝 Result for 노인남여_노인대화07_F_1522434093_60_경상_실내_08584.wav:\n",
      " 찬디씨가 좋아하는 연예인은 누구예요?\n",
      "\n",
      "🎧 Processing: 노인남여_노인대화07_F_1522434093_60_경상_실내_08585.wav\n",
      "📝 Result for 노인남여_노인대화07_F_1522434093_60_경상_실내_08585.wav:\n",
      " 가장 좋아하는 프로그램은 제가 뜬 경우는 아는 형님이나\n",
      "\n",
      "🎧 Processing: 노인남여_노인대화07_M_1520916170_75_수도권_실내_07752.wav\n",
      "📝 Result for 노인남여_노인대화07_M_1520916170_75_수도권_실내_07752.wav:\n",
      " 우리 둘이 그거를 받아서 열심히 먹었어.\n",
      "\n",
      "🎧 Processing: 노인남여_노인대화07_M_1520916170_75_수도권_실내_07754.wav\n",
      "📝 Result for 노인남여_노인대화07_M_1520916170_75_수도권_실내_07754.wav:\n",
      " 이제부터는 신경 써야 될 것 같아\n",
      "\n",
      "🎧 Processing: 노인남여_노인대화07_M_1520916170_75_수도권_실내_07758.wav\n",
      "📝 Result for 노인남여_노인대화07_M_1520916170_75_수도권_실내_07758.wav:\n",
      " 입은 달고 운동은 하기 싫고 하루 종일 책상에 앉아 있잖아.\n",
      "\n",
      "🎧 Processing: 노인남여_노인대화12_F_1527825984_71_충청_실내_14761.wav\n",
      "📝 Result for 노인남여_노인대화12_F_1527825984_71_충청_실내_14761.wav:\n",
      " 다 좋은 직장만 가려고 하고 높은 데만 가려고 하니까\n",
      "\n",
      "🎧 Processing: 노인남여_노인대화12_F_1527825984_71_충청_실내_14768.wav\n",
      "📝 Result for 노인남여_노인대화12_F_1527825984_71_충청_실내_14768.wav:\n",
      " 좋은 직, 직장 가야 된다. 여기에만 신경 썼지.\n",
      "\n"
     ]
    }
   ],
   "execution_count": 9
  },
  {
   "metadata": {},
   "cell_type": "code",
   "outputs": [],
   "execution_count": null,
   "source": "# LLM",
   "id": "d7f132639499b8a8"
  },
  {
   "metadata": {},
   "cell_type": "code",
   "outputs": [],
   "execution_count": null,
   "source": "",
   "id": "621837fcf92fa40e"
  }
 ],
 "metadata": {
  "kernelspec": {
   "display_name": "Python 3",
   "language": "python",
   "name": "python3"
  },
  "language_info": {
   "codemirror_mode": {
    "name": "ipython",
    "version": 2
   },
   "file_extension": ".py",
   "mimetype": "text/x-python",
   "name": "python",
   "nbconvert_exporter": "python",
   "pygments_lexer": "ipython2",
   "version": "2.7.6"
  }
 },
 "nbformat": 4,
 "nbformat_minor": 5
}
