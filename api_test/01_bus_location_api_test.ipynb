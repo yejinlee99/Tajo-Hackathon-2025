{
 "cells": [
  {
   "cell_type": "code",
   "id": "initial_id",
   "metadata": {
    "collapsed": true,
    "ExecuteTime": {
     "end_time": "2025-07-11T13:11:45.611884Z",
     "start_time": "2025-07-11T13:11:45.469468Z"
    }
   },
   "source": [
    "import requests\n",
    "\n",
    "url = \"http://apis.data.go.kr/1613000/BusLcInfoInqireService/getRouteAcctoBusLcList\"\n",
    "params = {\n",
    "    \"serviceKey\": \"ndtEZDTPJXo+4aw05oFN0qizq1QBahAZYpfo4iNIJtPMYXxVr3gwE6IESy9B/OfxkXSaVull1hdLdTQYCcgwEA==\", # 인증키(디코딩) 입력\n",
    "    \"cityCode\": \"25\",\n",
    "    \"routeId\": \"DJB30300052\",\n",
    "    \"numOfRows\": \"10\",\n",
    "    \"pageNo\": \"1\",\n",
    "    \"_type\": \"json\"  # ← JSON or XML\n",
    "}\n",
    "\n",
    "response = requests.get(url, params=params)\n",
    "data = response.json()\n",
    "\n",
    "# 데이터 확인\n",
    "for item in data['response']['body']['items']['item']:\n",
    "    print(f\"차량번호: {item['vehicleno']}\")\n",
    "    # Naver API에서 요구하는 경도 - 위도 순서로 받아오기\n",
    "    print(f\"위치: {item['gpslong']}, {item['gpslati']}\")\n",
    "    print(f\"정류장: {item['nodenm']}\")\n",
    "    print()"
   ],
   "outputs": [
    {
     "name": "stdout",
     "output_type": "stream",
     "text": [
      "차량번호: 대전75자2322\n",
      "위치: 127.364896, 36.307911\n",
      "정류장: 정림동\n",
      "\n",
      "차량번호: 대전75자2329\n",
      "위치: 127.258867, 36.26744\n",
      "정류장: 신성2차아파트\n",
      "\n",
      "차량번호: 대전75자2323\n",
      "위치: 127.243192, 36.290569\n",
      "정류장: 엄사입구\n",
      "\n",
      "차량번호: 대전75자2337\n",
      "위치: 127.320672, 36.293252\n",
      "정류장: 방동대교\n",
      "\n",
      "차량번호: 대전75자9267\n",
      "위치: 127.412079, 36.322431\n",
      "정류장: 서대전네거리역2번출구\n",
      "\n"
     ]
    }
   ],
   "execution_count": 14
  },
  {
   "metadata": {
    "ExecuteTime": {
     "end_time": "2025-06-30T06:26:46.167526Z",
     "start_time": "2025-06-30T06:26:46.163220Z"
    }
   },
   "cell_type": "code",
   "source": "print(response.text)",
   "id": "1db60afea404d502",
   "outputs": [
    {
     "name": "stdout",
     "output_type": "stream",
     "text": [
      "<OpenAPI_ServiceResponse>\n",
      "\t<cmmMsgHeader>\n",
      "\t\t<errMsg>SERVICE ERROR</errMsg>\n",
      "\t\t<returnAuthMsg>SERVICE_KEY_IS_NOT_REGISTERED_ERROR</returnAuthMsg>\n",
      "\t\t<returnReasonCode>30</returnReasonCode>\n",
      "\t</cmmMsgHeader>\n",
      "</OpenAPI_ServiceResponse>\n"
     ]
    }
   ],
   "execution_count": 4
  },
  {
   "metadata": {
    "ExecuteTime": {
     "end_time": "2025-06-30T06:39:36.625209Z",
     "start_time": "2025-06-30T06:39:36.499976Z"
    }
   },
   "cell_type": "code",
   "source": [
    "response = requests.get(url, params=params)\n",
    "print(response.status_code)\n",
    "print(response.url)        # 요청한 전체 URL 확인\n",
    "print(response.text)"
   ],
   "id": "b0f2adbada694dc1",
   "outputs": [
    {
     "name": "stdout",
     "output_type": "stream",
     "text": [
      "200\n",
      "http://apis.data.go.kr/1613000/BusLcInfoInqireService/getRouteAcctoBusLcList?serviceKey=ndtEZDTPJXo%2B4aw05oFN0qizq1QBahAZYpfo4iNIJtPMYXxVr3gwE6IESy9B%2FOfxkXSaVull1hdLdTQYCcgwEA%3D%3D&cityCode=25&routeId=DJB30300052&numOfRows=10&pageNo=1&_type=json\n",
      "{\"response\":{\"header\":{\"resultCode\":\"00\",\"resultMsg\":\"NORMAL SERVICE.\"},\"body\":{\"items\":{\"item\":[{\"gpslati\":36.322019,\"gpslong\":127.41107,\"nodeid\":\"DJB8001929\",\"nodenm\":\"서대전네거리역3번출구\",\"nodeord\":13,\"routenm\":202,\"routetp\":\"간선버스\",\"vehicleno\":\"대전75자2337\"},{\"gpslati\":36.302188,\"gpslong\":127.338817,\"nodeid\":\"DJB8001083\",\"nodenm\":\"건양대병원네거리\",\"nodeord\":26,\"routenm\":202,\"routetp\":\"간선버스\",\"vehicleno\":\"대전75자9216\"},{\"gpslati\":36.272174,\"gpslong\":127.250794,\"nodeid\":\"DJB8005973\",\"nodenm\":\"계룡시보건소\",\"nodeord\":55,\"routenm\":202,\"routetp\":\"간선버스\",\"vehicleno\":\"대전75자9267\"},{\"gpslati\":36.29054,\"gpslong\":127.24323,\"nodeid\":\"DJB8005207\",\"nodenm\":\"엄사입구\",\"nodeord\":73,\"routenm\":202,\"routetp\":\"간선버스\",\"vehicleno\":\"대전75자2338\"},{\"gpslati\":36.266672,\"gpslong\":127.286111,\"nodeid\":\"DJB8002176\",\"nodenm\":\"알로에농장\",\"nodeord\":99,\"routenm\":202,\"routetp\":\"간선버스\",\"vehicleno\":\"대전75자2510\"},{\"gpslati\":36.320573,\"gpslong\":127.405906,\"nodeid\":\"DJB8001934\",\"nodenm\":\"서대전역네거리\",\"nodeord\":124,\"routenm\":202,\"routetp\":\"간선버스\",\"vehicleno\":\"대전75자2322\"},{\"gpslati\":36.332841,\"gpslong\":127.437713,\"nodeid\":\"DJB9007514\",\"nodenm\":\"대전역동광장종점\",\"nodeord\":136,\"routenm\":202,\"routetp\":\"간선버스\",\"vehicleno\":\"대전75자2329\"}]},\"numOfRows\":10,\"pageNo\":1,\"totalCount\":7}}}\n"
     ]
    }
   ],
   "execution_count": 34
  },
  {
   "metadata": {
    "ExecuteTime": {
     "end_time": "2025-07-11T13:04:46.983912Z",
     "start_time": "2025-07-11T13:04:46.884022Z"
    }
   },
   "cell_type": "code",
   "source": [
    "# 도시코드 조회\n",
    "import requests\n",
    "\n",
    "url = 'http://apis.data.go.kr/1613000/BusLcInfoInqireService/getCtyCodeList'\n",
    "params ={'serviceKey' : 'ndtEZDTPJXo+4aw05oFN0qizq1QBahAZYpfo4iNIJtPMYXxVr3gwE6IESy9B/OfxkXSaVull1hdLdTQYCcgwEA==', '_type' : 'json' }\n",
    "\n",
    "response = requests.get(url, params=params)\n",
    "print(response.text)"
   ],
   "id": "785b7867d776354a",
   "outputs": [
    {
     "name": "stdout",
     "output_type": "stream",
     "text": [
      "{\"response\":{\"header\":{\"resultCode\":\"00\",\"resultMsg\":\"NORMAL SERVICE.\"},\"body\":{\"items\":{\"item\":[{\"citycode\":12,\"cityname\":\"세종특별시\"},{\"citycode\":21,\"cityname\":\"부산광역시\"},{\"citycode\":22,\"cityname\":\"대구광역시\"},{\"citycode\":23,\"cityname\":\"인천광역시\"},{\"citycode\":24,\"cityname\":\"광주광역시\"},{\"citycode\":25,\"cityname\":\"대전광역시\\/계룡시\"},{\"citycode\":26,\"cityname\":\"울산광역시\"},{\"citycode\":39,\"cityname\":\"제주도\"},{\"citycode\":31010,\"cityname\":\"수원시\"},{\"citycode\":31020,\"cityname\":\"성남시\"},{\"citycode\":31030,\"cityname\":\"의정부시\"},{\"citycode\":31040,\"cityname\":\"안양시\"},{\"citycode\":31050,\"cityname\":\"부천시\"},{\"citycode\":31060,\"cityname\":\"광명시\"},{\"citycode\":31070,\"cityname\":\"평택시\"},{\"citycode\":31080,\"cityname\":\"동두천시\"},{\"citycode\":31090,\"cityname\":\"안산시\"},{\"citycode\":31100,\"cityname\":\"고양시\"},{\"citycode\":31110,\"cityname\":\"과천시\"},{\"citycode\":31120,\"cityname\":\"구리시\"},{\"citycode\":31130,\"cityname\":\"남양주시\"},{\"citycode\":31140,\"cityname\":\"오산시\"},{\"citycode\":31150,\"cityname\":\"시흥시\"},{\"citycode\":31160,\"cityname\":\"군포시\"},{\"citycode\":31170,\"cityname\":\"의왕시\"},{\"citycode\":31180,\"cityname\":\"하남시\"},{\"citycode\":31190,\"cityname\":\"용인시\"},{\"citycode\":31200,\"cityname\":\"파주시\"},{\"citycode\":31210,\"cityname\":\"이천시\"},{\"citycode\":31220,\"cityname\":\"안성시\"},{\"citycode\":31230,\"cityname\":\"김포시\"},{\"citycode\":31240,\"cityname\":\"화성시\"},{\"citycode\":31250,\"cityname\":\"광주시\"},{\"citycode\":31260,\"cityname\":\"양주시\"},{\"citycode\":31270,\"cityname\":\"포천시\"},{\"citycode\":31320,\"cityname\":\"여주시\"},{\"citycode\":31350,\"cityname\":\"연천군\"},{\"citycode\":31370,\"cityname\":\"가평군\"},{\"citycode\":31380,\"cityname\":\"양평군\"},{\"citycode\":32010,\"cityname\":\"춘천시\"},{\"citycode\":32020,\"cityname\":\"원주시\\/횡성군\"},{\"citycode\":32050,\"cityname\":\"태백시\"},{\"citycode\":32310,\"cityname\":\"홍천군\"},{\"citycode\":32360,\"cityname\":\"철원군\"},{\"citycode\":32410,\"cityname\":\"양양군\"},{\"citycode\":33010,\"cityname\":\"청주시\"},{\"citycode\":33020,\"cityname\":\"충주시\"},{\"citycode\":33030,\"cityname\":\"제천시\"},{\"citycode\":33320,\"cityname\":\"보은군\"},{\"citycode\":33330,\"cityname\":\"옥천군\"},{\"citycode\":33340,\"cityname\":\"영동군\"},{\"citycode\":33350,\"cityname\":\"진천군\"},{\"citycode\":33360,\"cityname\":\"괴산군\"},{\"citycode\":33370,\"cityname\":\"음성군\"},{\"citycode\":33380,\"cityname\":\"단양군\"},{\"citycode\":34010,\"cityname\":\"천안시\"},{\"citycode\":34020,\"cityname\":\"공주시\"},{\"citycode\":34040,\"cityname\":\"아산시\"},{\"citycode\":34050,\"cityname\":\"서산시\"},{\"citycode\":34060,\"cityname\":\"논산시\"},{\"citycode\":34070,\"cityname\":\"계룡시\"},{\"citycode\":34330,\"cityname\":\"부여군\"},{\"citycode\":34390,\"cityname\":\"당진시\"},{\"citycode\":35010,\"cityname\":\"전주시\"},{\"citycode\":35020,\"cityname\":\"군산시\"},{\"citycode\":35040,\"cityname\":\"정읍시\"},{\"citycode\":35050,\"cityname\":\"남원시\"},{\"citycode\":35060,\"cityname\":\"김제시\"},{\"citycode\":35320,\"cityname\":\"진안군\"},{\"citycode\":35330,\"cityname\":\"무주군\"},{\"citycode\":35340,\"cityname\":\"장수군\"},{\"citycode\":35350,\"cityname\":\"임실군\"},{\"citycode\":35360,\"cityname\":\"순창군\"},{\"citycode\":35370,\"cityname\":\"고창군\"},{\"citycode\":35380,\"cityname\":\"부안군\"},{\"citycode\":36010,\"cityname\":\"목포시\"},{\"citycode\":36020,\"cityname\":\"여수시\"},{\"citycode\":36030,\"cityname\":\"순천시\"},{\"citycode\":36040,\"cityname\":\"나주시\"},{\"citycode\":36060,\"cityname\":\"광양시\"},{\"citycode\":36320,\"cityname\":\"곡성군\"},{\"citycode\":36330,\"cityname\":\"구례군\"},{\"citycode\":36350,\"cityname\":\"고흥군\"},{\"citycode\":36380,\"cityname\":\"장흥군\"},{\"citycode\":36400,\"cityname\":\"해남군\"},{\"citycode\":36410,\"cityname\":\"영암군\"},{\"citycode\":36420,\"cityname\":\"무안군\"},{\"citycode\":36430,\"cityname\":\"함평군\"},{\"citycode\":36450,\"cityname\":\"장성군\"},{\"citycode\":36460,\"cityname\":\"완도군\"},{\"citycode\":36470,\"cityname\":\"진도군\"},{\"citycode\":36480,\"cityname\":\"신안군\"},{\"citycode\":37010,\"cityname\":\"포항시\"},{\"citycode\":37020,\"cityname\":\"경주시\"},{\"citycode\":37030,\"cityname\":\"김천시\"},{\"citycode\":37040,\"cityname\":\"안동시\"},{\"citycode\":37050,\"cityname\":\"구미시\"},{\"citycode\":37060,\"cityname\":\"영주시\"},{\"citycode\":37070,\"cityname\":\"영천시\"},{\"citycode\":37080,\"cityname\":\"상주시\"},{\"citycode\":37090,\"cityname\":\"문경시\"},{\"citycode\":37100,\"cityname\":\"경산시\"},{\"citycode\":37320,\"cityname\":\"의성군\"},{\"citycode\":37330,\"cityname\":\"청송군\"},{\"citycode\":37340,\"cityname\":\"영양군\"},{\"citycode\":37350,\"cityname\":\"영덕군\"},{\"citycode\":37360,\"cityname\":\"청도군\"},{\"citycode\":37370,\"cityname\":\"고령군\"},{\"citycode\":37380,\"cityname\":\"성주군\"},{\"citycode\":37390,\"cityname\":\"칠곡군\"},{\"citycode\":37400,\"cityname\":\"예천군\"},{\"citycode\":37410,\"cityname\":\"봉화군\"},{\"citycode\":37420,\"cityname\":\"울진군\"},{\"citycode\":37430,\"cityname\":\"울릉군\"},{\"citycode\":38010,\"cityname\":\"창원시\"},{\"citycode\":38030,\"cityname\":\"진주시\"},{\"citycode\":38050,\"cityname\":\"통영시\"},{\"citycode\":38060,\"cityname\":\"사천시\"},{\"citycode\":38070,\"cityname\":\"김해시\"},{\"citycode\":38080,\"cityname\":\"밀양시\"},{\"citycode\":38090,\"cityname\":\"거제시\"},{\"citycode\":38100,\"cityname\":\"양산시\"},{\"citycode\":38310,\"cityname\":\"의령군\"},{\"citycode\":38320,\"cityname\":\"함안군\"},{\"citycode\":38330,\"cityname\":\"창녕군\"},{\"citycode\":38340,\"cityname\":\"고성군\"},{\"citycode\":38350,\"cityname\":\"남해군\"},{\"citycode\":38360,\"cityname\":\"하동군\"},{\"citycode\":38370,\"cityname\":\"산청군\"},{\"citycode\":38380,\"cityname\":\"함양군\"},{\"citycode\":38390,\"cityname\":\"거창군\"},{\"citycode\":38400,\"cityname\":\"합천군\"}]}}}}\n"
     ]
    }
   ],
   "execution_count": 5
  },
  {
   "metadata": {},
   "cell_type": "code",
   "outputs": [],
   "execution_count": null,
   "source": "",
   "id": "a2cf5a7a41a4f30c"
  }
 ],
 "metadata": {
  "kernelspec": {
   "display_name": "Python 3",
   "language": "python",
   "name": "python3"
  },
  "language_info": {
   "codemirror_mode": {
    "name": "ipython",
    "version": 2
   },
   "file_extension": ".py",
   "mimetype": "text/x-python",
   "name": "python",
   "nbconvert_exporter": "python",
   "pygments_lexer": "ipython2",
   "version": "2.7.6"
  }
 },
 "nbformat": 4,
 "nbformat_minor": 5
}
