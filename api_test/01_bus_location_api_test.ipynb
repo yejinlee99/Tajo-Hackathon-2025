{
 "cells": [
  {
   "cell_type": "code",
   "id": "initial_id",
   "metadata": {
    "collapsed": true,
    "jupyter": {
     "is_executing": true
    }
   },
   "source": [
    "import requests\n",
    "\n",
    "url = \"http://apis.data.go.kr/1613000/BusLcInfoInqireService/getRouteAcctoBusLcList\"\n",
    "params = {\n",
    "    \"serviceKey\": \"ndtEZDTPJXo+4aw05oFN0qizq1QBahAZYpfo4iNIJtPMYXxVr3gwE6IESy9B/OfxkXSaVull1hdLdTQYCcgwEA==\", # 인증키(디코딩) 입력\n",
    "    \"cityCode\": \"25\",\n",
    "    \"routeId\": \"DJB30300052\",\n",
    "    \"numOfRows\": \"10\",\n",
    "    \"pageNo\": \"1\",\n",
    "    \"_type\": \"json\"  # ← JSON or XML\n",
    "}\n",
    "\n",
    "response = requests.get(url, params=params)\n",
    "data = response.json()\n",
    "\n",
    "# 데이터 확인\n",
    "for item in data['response']['body']['items']['item']:\n",
    "    print(f\"차량번호: {item['vehicleno']}\")\n",
    "    # Naver API에서 요구하는 경도 - 위도 순서로 받아오기\n",
    "    print(f\"위치: {item['gpslong']}, {item['gpslati']}\")\n",
    "    print(f\"정류장: {item['nodenm']}\")\n",
    "    print()"
   ],
   "outputs": [],
   "execution_count": null
  },
  {
   "metadata": {
    "ExecuteTime": {
     "end_time": "2025-06-30T06:26:46.167526Z",
     "start_time": "2025-06-30T06:26:46.163220Z"
    }
   },
   "cell_type": "code",
   "source": "print(response.text)",
   "id": "1db60afea404d502",
   "outputs": [
    {
     "name": "stdout",
     "output_type": "stream",
     "text": [
      "<OpenAPI_ServiceResponse>\n",
      "\t<cmmMsgHeader>\n",
      "\t\t<errMsg>SERVICE ERROR</errMsg>\n",
      "\t\t<returnAuthMsg>SERVICE_KEY_IS_NOT_REGISTERED_ERROR</returnAuthMsg>\n",
      "\t\t<returnReasonCode>30</returnReasonCode>\n",
      "\t</cmmMsgHeader>\n",
      "</OpenAPI_ServiceResponse>\n"
     ]
    }
   ],
   "execution_count": 4
  },
  {
   "metadata": {
    "ExecuteTime": {
     "end_time": "2025-06-30T06:39:36.625209Z",
     "start_time": "2025-06-30T06:39:36.499976Z"
    }
   },
   "cell_type": "code",
   "source": [
    "response = requests.get(url, params=params)\n",
    "print(response.status_code)\n",
    "print(response.url)        # 요청한 전체 URL 확인\n",
    "print(response.text)"
   ],
   "id": "b0f2adbada694dc1",
   "outputs": [
    {
     "name": "stdout",
     "output_type": "stream",
     "text": [
      "200\n",
      "http://apis.data.go.kr/1613000/BusLcInfoInqireService/getRouteAcctoBusLcList?serviceKey=ndtEZDTPJXo%2B4aw05oFN0qizq1QBahAZYpfo4iNIJtPMYXxVr3gwE6IESy9B%2FOfxkXSaVull1hdLdTQYCcgwEA%3D%3D&cityCode=25&routeId=DJB30300052&numOfRows=10&pageNo=1&_type=json\n",
      "{\"response\":{\"header\":{\"resultCode\":\"00\",\"resultMsg\":\"NORMAL SERVICE.\"},\"body\":{\"items\":{\"item\":[{\"gpslati\":36.322019,\"gpslong\":127.41107,\"nodeid\":\"DJB8001929\",\"nodenm\":\"서대전네거리역3번출구\",\"nodeord\":13,\"routenm\":202,\"routetp\":\"간선버스\",\"vehicleno\":\"대전75자2337\"},{\"gpslati\":36.302188,\"gpslong\":127.338817,\"nodeid\":\"DJB8001083\",\"nodenm\":\"건양대병원네거리\",\"nodeord\":26,\"routenm\":202,\"routetp\":\"간선버스\",\"vehicleno\":\"대전75자9216\"},{\"gpslati\":36.272174,\"gpslong\":127.250794,\"nodeid\":\"DJB8005973\",\"nodenm\":\"계룡시보건소\",\"nodeord\":55,\"routenm\":202,\"routetp\":\"간선버스\",\"vehicleno\":\"대전75자9267\"},{\"gpslati\":36.29054,\"gpslong\":127.24323,\"nodeid\":\"DJB8005207\",\"nodenm\":\"엄사입구\",\"nodeord\":73,\"routenm\":202,\"routetp\":\"간선버스\",\"vehicleno\":\"대전75자2338\"},{\"gpslati\":36.266672,\"gpslong\":127.286111,\"nodeid\":\"DJB8002176\",\"nodenm\":\"알로에농장\",\"nodeord\":99,\"routenm\":202,\"routetp\":\"간선버스\",\"vehicleno\":\"대전75자2510\"},{\"gpslati\":36.320573,\"gpslong\":127.405906,\"nodeid\":\"DJB8001934\",\"nodenm\":\"서대전역네거리\",\"nodeord\":124,\"routenm\":202,\"routetp\":\"간선버스\",\"vehicleno\":\"대전75자2322\"},{\"gpslati\":36.332841,\"gpslong\":127.437713,\"nodeid\":\"DJB9007514\",\"nodenm\":\"대전역동광장종점\",\"nodeord\":136,\"routenm\":202,\"routetp\":\"간선버스\",\"vehicleno\":\"대전75자2329\"}]},\"numOfRows\":10,\"pageNo\":1,\"totalCount\":7}}}\n"
     ]
    }
   ],
   "execution_count": 34
  },
  {
   "metadata": {},
   "cell_type": "code",
   "outputs": [],
   "execution_count": null,
   "source": "",
   "id": "785b7867d776354a"
  }
 ],
 "metadata": {
  "kernelspec": {
   "display_name": "Python 3",
   "language": "python",
   "name": "python3"
  },
  "language_info": {
   "codemirror_mode": {
    "name": "ipython",
    "version": 2
   },
   "file_extension": ".py",
   "mimetype": "text/x-python",
   "name": "python",
   "nbconvert_exporter": "python",
   "pygments_lexer": "ipython2",
   "version": "2.7.6"
  }
 },
 "nbformat": 4,
 "nbformat_minor": 5
}
