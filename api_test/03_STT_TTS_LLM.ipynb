{
 "cells": [
  {
   "metadata": {
    "ExecuteTime": {
     "end_time": "2025-07-07T08:45:33.958712Z",
     "start_time": "2025-07-07T08:45:33.955715Z"
    }
   },
   "cell_type": "code",
   "source": "# STT : OpenAI Whisper",
   "id": "be9a58126b783363",
   "outputs": [],
   "execution_count": 2
  },
  {
   "metadata": {
    "ExecuteTime": {
     "end_time": "2025-07-07T10:44:08.855707Z",
     "start_time": "2025-07-07T10:44:03.146702Z"
    }
   },
   "cell_type": "code",
   "source": [
    "import torch\n",
    "print(torch.cuda.is_available())         # True\n",
    "print(torch.cuda.get_device_name(0))     # GeForce RTX 4070 Ti"
   ],
   "id": "8ce5ecac35ad2715",
   "outputs": [
    {
     "name": "stdout",
     "output_type": "stream",
     "text": [
      "True\n",
      "NVIDIA GeForce RTX 4070 Ti\n"
     ]
    }
   ],
   "execution_count": 1
  },
  {
   "cell_type": "code",
   "id": "initial_id",
   "metadata": {
    "collapsed": true,
    "ExecuteTime": {
     "end_time": "2025-07-07T12:55:31.599842Z",
     "start_time": "2025-07-07T12:55:19.412785Z"
    }
   },
   "source": [
    "import whisper\n",
    "import os\n",
    "model = whisper.load_model(\"medium\", device='cuda') # or \"small\", \"large\", device옵션 없애면 cpu에서 작동\n",
    "result_stt = model.transcribe(\"C:\\\\workspaces\\\\tajo_workspace\\\\api_test\\\\test_files\\\\강남역에가고싶어요.m4a\", language=\"ko\",fp16=True) # fp16 = True 해주면 속도 2배정도 빨라짐\n",
    "print(result_stt[\"text\"])"
   ],
   "outputs": [
    {
     "name": "stdout",
     "output_type": "stream",
     "text": [
      " 강남역에 가고 싶어요\n"
     ]
    }
   ],
   "execution_count": 1
  },
  {
   "metadata": {
    "ExecuteTime": {
     "end_time": "2025-07-07T11:08:03.106344Z",
     "start_time": "2025-07-07T11:08:02.440171Z"
    }
   },
   "cell_type": "code",
   "source": [
    "# whisper-medium 처리시간(약 1초, 나머지 5~9초의 대부분은 ffmpeg의 .wav 디코딩 처리시간으로 보임)\n",
    "import time\n",
    "\n",
    "start = time.perf_counter()\n",
    "result_stt_one = model.transcribe(\"C:\\\\workspaces\\\\tajo_workspace\\\\api_test\\\\test_files\\\\강남역에가고싶어요.m4a\", language=\"ko\", fp16=True)\n",
    "end = time.perf_counter()\n",
    "\n",
    "print(\"📝 결과:\", result_stt_one[\"text\"])\n",
    "print(f\"⏱️ 처리 시간: {end - start:.2f}초\")"
   ],
   "id": "3545555910c2c3aa",
   "outputs": [
    {
     "name": "stdout",
     "output_type": "stream",
     "text": [
      "📝 결과:  강남역에 가고 싶어요\n",
      "⏱️ 처리 시간: 0.66초\n"
     ]
    }
   ],
   "execution_count": 18
  },
  {
   "metadata": {
    "ExecuteTime": {
     "end_time": "2025-07-07T11:06:27.977195Z",
     "start_time": "2025-07-07T11:06:26.811498Z"
    }
   },
   "cell_type": "code",
   "source": [
    "result_stt = model.transcribe(\"C:\\\\workspaces\\\\tajo_workspace\\\\api_test\\\\test_files\\\\노인남여_노인대화07_F_1522434093_60_경상_실내_08582.wav\", language=\"ko\")\n",
    "print(result_stt[\"text\"])"
   ],
   "id": "d7be4c584e57bd9e",
   "outputs": [
    {
     "name": "stdout",
     "output_type": "stream",
     "text": [
      " 노을을 같이 보내야 되지 않을까 싶네요.\n"
     ]
    }
   ],
   "execution_count": 16
  },
  {
   "metadata": {
    "ExecuteTime": {
     "end_time": "2025-07-07T08:56:05.807289Z",
     "start_time": "2025-07-07T08:56:05.803895Z"
    }
   },
   "cell_type": "code",
   "source": [
    "import os\n",
    "folder_path = \"C:\\\\workspaces\\\\tajo_workspace\\\\api_test\\\\test_files\""
   ],
   "id": "fcf1b241ef216c48",
   "outputs": [],
   "execution_count": 6
  },
  {
   "metadata": {
    "ExecuteTime": {
     "end_time": "2025-07-07T08:59:58.111827Z",
     "start_time": "2025-07-07T08:59:04.120844Z"
    }
   },
   "cell_type": "code",
   "source": [
    "for filename in os.listdir(folder_path):\n",
    "    if filename.lower().endswith(('.mp3', '.wav', '.m4a', '.flac')):\n",
    "        file_path = os.path.join(folder_path, filename)\n",
    "        print(f\"🎧 Processing: {filename}\")\n",
    "        result_stt = model.transcribe(file_path, language='ko')\n",
    "        print(f\"📝 Result for {filename}:\\n{result_stt['text']}\\n\")"
   ],
   "id": "ec76d0dd7b149c65",
   "outputs": [
    {
     "name": "stdout",
     "output_type": "stream",
     "text": [
      "🎧 Processing: 노인남여_노인대화07_F_1522434093_60_경상_실내_08582.wav\n",
      "📝 Result for 노인남여_노인대화07_F_1522434093_60_경상_실내_08582.wav:\n",
      " 노을을 같이 보내야 되지 않을까 싶네요.\n",
      "\n",
      "🎧 Processing: 노인남여_노인대화07_F_1522434093_60_경상_실내_08584.wav\n",
      "📝 Result for 노인남여_노인대화07_F_1522434093_60_경상_실내_08584.wav:\n",
      " 잔디씨가 좋아하는 연예인은 누구에요?\n",
      "\n",
      "🎧 Processing: 노인남여_노인대화07_F_1522434093_60_경상_실내_08585.wav\n",
      "📝 Result for 노인남여_노인대화07_F_1522434093_60_경상_실내_08585.wav:\n",
      " 가장 좋아하는 프로그램은 제가 같은 경우는 아는형님이나\n",
      "\n",
      "🎧 Processing: 노인남여_노인대화07_M_1520916170_75_수도권_실내_07752.wav\n",
      "📝 Result for 노인남여_노인대화07_M_1520916170_75_수도권_실내_07752.wav:\n",
      " 우리 둘이 그거를 받아서 열심히 먹었어\n",
      "\n",
      "🎧 Processing: 노인남여_노인대화07_M_1520916170_75_수도권_실내_07754.wav\n",
      "📝 Result for 노인남여_노인대화07_M_1520916170_75_수도권_실내_07754.wav:\n",
      " 이제부터는 신경 써야 될 것 같아\n",
      "\n",
      "🎧 Processing: 노인남여_노인대화07_M_1520916170_75_수도권_실내_07758.wav\n",
      "📝 Result for 노인남여_노인대화07_M_1520916170_75_수도권_실내_07758.wav:\n",
      " 입은 달고 운동은 하기 싫고 하루 종일 책상에 앉아 있잖아\n",
      "\n",
      "🎧 Processing: 노인남여_노인대화12_F_1527825984_71_충청_실내_14761.wav\n",
      "📝 Result for 노인남여_노인대화12_F_1527825984_71_충청_실내_14761.wav:\n",
      " 다 좋은 직장만 가려고 하고 높은 데만 가려고 하니까\n",
      "\n",
      "🎧 Processing: 노인남여_노인대화12_F_1527825984_71_충청_실내_14768.wav\n",
      "📝 Result for 노인남여_노인대화12_F_1527825984_71_충청_실내_14768.wav:\n",
      " 종훈 씨, 직장 가야 된다. 여기에만 신경 썼지.\n",
      "\n"
     ]
    }
   ],
   "execution_count": 9
  },
  {
   "metadata": {
    "ExecuteTime": {
     "end_time": "2025-07-07T08:56:13.441935200Z",
     "start_time": "2025-07-07T06:34:50.110020Z"
    }
   },
   "cell_type": "code",
   "source": "model = whisper.load_model(\"small\")  # or \"small\", \"large\"",
   "id": "d48f15ceb02bf9a8",
   "outputs": [
    {
     "name": "stderr",
     "output_type": "stream",
     "text": [
      "100%|███████████████████████████████████████| 461M/461M [00:45<00:00, 10.5MiB/s]\n"
     ]
    }
   ],
   "execution_count": 8
  },
  {
   "metadata": {
    "ExecuteTime": {
     "end_time": "2025-07-07T06:36:14.525727Z",
     "start_time": "2025-07-07T06:35:42.537454Z"
    }
   },
   "cell_type": "code",
   "source": [
    "for filename in os.listdir(folder_path):\n",
    "    if filename.lower().endswith(('.mp3', '.wav', '.m4a', '.flac')):\n",
    "        file_path = os.path.join(folder_path, filename)\n",
    "        print(f\"🎧 Processing: {filename}\")\n",
    "        result_tts_small = model.transcribe(file_path, language='ko')\n",
    "        print(f\"📝 Result for {filename}:\\n{result_tts_small['text']}\\n\")"
   ],
   "id": "bc45e10b93ea5fef",
   "outputs": [
    {
     "name": "stdout",
     "output_type": "stream",
     "text": [
      "🎧 Processing: 노인남여_노인대화07_F_1522434093_60_경상_실내_08582.wav\n",
      "📝 Result for 노인남여_노인대화07_F_1522434093_60_경상_실내_08582.wav:\n",
      " 노을을 같이 보내야 하지 않을까 싶네요.\n",
      "\n",
      "🎧 Processing: 노인남여_노인대화07_F_1522434093_60_경상_실내_08584.wav\n",
      "📝 Result for 노인남여_노인대화07_F_1522434093_60_경상_실내_08584.wav:\n",
      " 찬디씨가 좋아하는 연예인은 누구예요?\n",
      "\n",
      "🎧 Processing: 노인남여_노인대화07_F_1522434093_60_경상_실내_08585.wav\n",
      "📝 Result for 노인남여_노인대화07_F_1522434093_60_경상_실내_08585.wav:\n",
      " 가장 좋아하는 프로그램은 제가 뜬 경우는 아는 형님이나\n",
      "\n",
      "🎧 Processing: 노인남여_노인대화07_M_1520916170_75_수도권_실내_07752.wav\n",
      "📝 Result for 노인남여_노인대화07_M_1520916170_75_수도권_실내_07752.wav:\n",
      " 우리 둘이 그거를 받아서 열심히 먹었어.\n",
      "\n",
      "🎧 Processing: 노인남여_노인대화07_M_1520916170_75_수도권_실내_07754.wav\n",
      "📝 Result for 노인남여_노인대화07_M_1520916170_75_수도권_실내_07754.wav:\n",
      " 이제부터는 신경 써야 될 것 같아\n",
      "\n",
      "🎧 Processing: 노인남여_노인대화07_M_1520916170_75_수도권_실내_07758.wav\n",
      "📝 Result for 노인남여_노인대화07_M_1520916170_75_수도권_실내_07758.wav:\n",
      " 입은 달고 운동은 하기 싫고 하루 종일 책상에 앉아 있잖아.\n",
      "\n",
      "🎧 Processing: 노인남여_노인대화12_F_1527825984_71_충청_실내_14761.wav\n",
      "📝 Result for 노인남여_노인대화12_F_1527825984_71_충청_실내_14761.wav:\n",
      " 다 좋은 직장만 가려고 하고 높은 데만 가려고 하니까\n",
      "\n",
      "🎧 Processing: 노인남여_노인대화12_F_1527825984_71_충청_실내_14768.wav\n",
      "📝 Result for 노인남여_노인대화12_F_1527825984_71_충청_실내_14768.wav:\n",
      " 좋은 직, 직장 가야 된다. 여기에만 신경 썼지.\n",
      "\n"
     ]
    }
   ],
   "execution_count": 9
  },
  {
   "metadata": {},
   "cell_type": "code",
   "outputs": [],
   "execution_count": null,
   "source": "# LLM(ollama)",
   "id": "d7f132639499b8a8"
  },
  {
   "metadata": {
    "ExecuteTime": {
     "end_time": "2025-07-07T12:57:54.149753Z",
     "start_time": "2025-07-07T12:57:54.089288Z"
    }
   },
   "cell_type": "code",
   "source": [
    "# llama3\n",
    "import requests\n",
    "\n",
    "url = \"http://localhost:11434/api/generate\"\n",
    "prompt_text = result_stt_one[\"text\"]  # Whisper 결과에서 텍스트만 추출\n",
    "payload = {\n",
    "    \"model\": \"llama3\",           # 너가 실행 중인 모델 이름\n",
    "    \"prompt\": prompt_text,\n",
    "    \"stream\": False,\n",
    "    \"device\" : \"cuda\" # gpu 가동 옵션\n",
    "}\n",
    "\n",
    "response = requests.post(url, json=payload)\n",
    "result_llm = response.json()\n",
    "\n",
    "# 전체 응답 확인\n",
    "import json\n",
    "print(\"🔍 응답 내용 전체:\")\n",
    "print(result_llm)\n",
    "# print(json.dumps(result, indent=2))"
   ],
   "id": "621837fcf92fa40e",
   "outputs": [
    {
     "ename": "NameError",
     "evalue": "name 'result_stt_one' is not defined",
     "output_type": "error",
     "traceback": [
      "\u001B[31m---------------------------------------------------------------------------\u001B[39m",
      "\u001B[31mNameError\u001B[39m                                 Traceback (most recent call last)",
      "\u001B[36mCell\u001B[39m\u001B[36m \u001B[39m\u001B[32mIn[4]\u001B[39m\u001B[32m, line 5\u001B[39m\n\u001B[32m      2\u001B[39m \u001B[38;5;28;01mimport\u001B[39;00m\u001B[38;5;250m \u001B[39m\u001B[34;01mrequests\u001B[39;00m\n\u001B[32m      4\u001B[39m url = \u001B[33m\"\u001B[39m\u001B[33mhttp://localhost:11434/api/generate\u001B[39m\u001B[33m\"\u001B[39m\n\u001B[32m----> \u001B[39m\u001B[32m5\u001B[39m prompt_text = \u001B[43mresult_stt_one\u001B[49m[\u001B[33m\"\u001B[39m\u001B[33mtext\u001B[39m\u001B[33m\"\u001B[39m]  \u001B[38;5;66;03m# Whisper 결과에서 텍스트만 추출\u001B[39;00m\n\u001B[32m      6\u001B[39m payload = {\n\u001B[32m      7\u001B[39m     \u001B[33m\"\u001B[39m\u001B[33mmodel\u001B[39m\u001B[33m\"\u001B[39m: \u001B[33m\"\u001B[39m\u001B[33mllama3\u001B[39m\u001B[33m\"\u001B[39m,           \u001B[38;5;66;03m# 너가 실행 중인 모델 이름\u001B[39;00m\n\u001B[32m      8\u001B[39m     \u001B[33m\"\u001B[39m\u001B[33mprompt\u001B[39m\u001B[33m\"\u001B[39m: prompt_text,\n\u001B[32m      9\u001B[39m     \u001B[33m\"\u001B[39m\u001B[33mstream\u001B[39m\u001B[33m\"\u001B[39m: \u001B[38;5;28;01mFalse\u001B[39;00m,\n\u001B[32m     10\u001B[39m     \u001B[33m\"\u001B[39m\u001B[33mdevice\u001B[39m\u001B[33m\"\u001B[39m : \u001B[33m\"\u001B[39m\u001B[33mcuda\u001B[39m\u001B[33m\"\u001B[39m \u001B[38;5;66;03m# gpu 가동 옵션\u001B[39;00m\n\u001B[32m     11\u001B[39m }\n\u001B[32m     13\u001B[39m response = requests.post(url, json=payload)\n",
      "\u001B[31mNameError\u001B[39m: name 'result_stt_one' is not defined"
     ]
    }
   ],
   "execution_count": 4
  },
  {
   "metadata": {
    "ExecuteTime": {
     "end_time": "2025-07-07T12:57:51.161445Z",
     "start_time": "2025-07-07T12:57:51.104841Z"
    }
   },
   "cell_type": "code",
   "source": [
    "# llama3 시간체크\n",
    "import time\n",
    "start = time.perf_counter()\n",
    "response = requests.post(url, json=payload)\n",
    "end = time.perf_counter()\n",
    "print(f\"⏱️ 응답시간: {end - start:.2f}초\")"
   ],
   "id": "b3d3d69b57487fd6",
   "outputs": [
    {
     "ename": "NameError",
     "evalue": "name 'requests' is not defined",
     "output_type": "error",
     "traceback": [
      "\u001B[31m---------------------------------------------------------------------------\u001B[39m",
      "\u001B[31mNameError\u001B[39m                                 Traceback (most recent call last)",
      "\u001B[36mCell\u001B[39m\u001B[36m \u001B[39m\u001B[32mIn[3]\u001B[39m\u001B[32m, line 4\u001B[39m\n\u001B[32m      2\u001B[39m \u001B[38;5;28;01mimport\u001B[39;00m\u001B[38;5;250m \u001B[39m\u001B[34;01mtime\u001B[39;00m\n\u001B[32m      3\u001B[39m start = time.perf_counter()\n\u001B[32m----> \u001B[39m\u001B[32m4\u001B[39m response = \u001B[43mrequests\u001B[49m.post(url, json=payload)\n\u001B[32m      5\u001B[39m end = time.perf_counter()\n\u001B[32m      6\u001B[39m \u001B[38;5;28mprint\u001B[39m(\u001B[33mf\u001B[39m\u001B[33m\"\u001B[39m\u001B[33m⏱️ 응답시간: \u001B[39m\u001B[38;5;132;01m{\u001B[39;00mend\u001B[38;5;250m \u001B[39m-\u001B[38;5;250m \u001B[39mstart\u001B[38;5;132;01m:\u001B[39;00m\u001B[33m.2f\u001B[39m\u001B[38;5;132;01m}\u001B[39;00m\u001B[33m초\u001B[39m\u001B[33m\"\u001B[39m)\n",
      "\u001B[31mNameError\u001B[39m: name 'requests' is not defined"
     ]
    }
   ],
   "execution_count": 3
  },
  {
   "metadata": {
    "ExecuteTime": {
     "end_time": "2025-07-07T11:09:51.206891Z",
     "start_time": "2025-07-07T11:09:13.395879Z"
    }
   },
   "cell_type": "code",
   "source": [
    "# mistral\n",
    "\n",
    "import requests\n",
    "\n",
    "url = \"http://localhost:11434/api/generate\"\n",
    "prompt_text = result_stt_one[\"text\"]  # Whisper 결과에서 텍스트만 추출\n",
    "payload = {\n",
    "    \"model\": \"mistral\",\n",
    "    \"prompt\": prompt_text,\n",
    "    \"stream\": False,\n",
    "    \"device\" : \"cuda\" # gpu 가동 옵션\n",
    "}\n",
    "\n",
    "response = requests.post(url, json=payload)\n",
    "result_llm = response.json()\n",
    "\n",
    "# 전체 응답 확인\n",
    "import json\n",
    "print(\"🔍 응답 내용 전체:\")\n",
    "print(result_llm)\n",
    "# print(json.dumps(result, indent=2))"
   ],
   "id": "e25c368b8d049bfd",
   "outputs": [
    {
     "name": "stdout",
     "output_type": "stream",
     "text": [
      "🔍 응답 내용 전체:\n",
      "{'model': 'mistral', 'created_at': '2025-07-07T11:09:51.2042437Z', 'response': ' 당신이 구할 것 같은 정보는 강남역의 위치와 해당 지하철 노선, 탑승 방법이 될 것입니다.\\n\\n* 강남역의 주소는 서울특별시 성동구 삼선대로 79 입니다.\\n* 이 지점에는 노선 2 (신분당선), 3 (수인선), 5 (광장선), 7 (인천선), 8 (공항선)이 모두 통행합니다.\\n* 가고 싶은 경우, 상세한 노선과 시간표에 대해서는 국민전력 지하철 홈페이지(www.seoulmetro.co.kr)를 참조하시기 바랍니다.\\n* 또한, 택시 등 개인 차량으로 가는 경우도 있습니다. 이 경우에는 Kakao Mobility(카카오 모비리티)나 Naver Map(네이버 맵)을 통해서 상세한 방법을 확인할 수 있습니다.\\n* 가고 싶은 경우, 위의 정보를 토대로 적절한 조치를 취하시기 바랍니다.', 'done': True, 'done_reason': 'stop', 'context': [3, 3055, 31735, 31951, 31371, 29916, 29473, 29903, 30279, 29473, 1007, 910, 953, 30201, 30285, 4, 1027, 31055, 30894, 29783, 29473, 30547, 30491, 29473, 31207, 29473, 31604, 30306, 29473, 30001, 30245, 29943, 29473, 31735, 31951, 31371, 29955, 29473, 30512, 30927, 31043, 29473, 30194, 31055, 29473, 29929, 29904, 1007, 949, 931, 29473, 31293, 30668, 29493, 29473, 1008, 902, 916, 32441, 29473, 31008, 31747, 29783, 29473, 32473, 29473, 31207, 30197, 29962, 29811, 29491, 781, 781, 29504, 29473, 31735, 31951, 31371, 29955, 29473, 30325, 30334, 29943, 29473, 30073, 32526, 32452, 31812, 30004, 29473, 30233, 30482, 30547, 29473, 1007, 901, 959, 30668, 30402, 29911, 29473, 29555, 29542, 29473, 30197, 29962, 29811, 29491, 781, 29504, 29473, 29783, 29473, 29929, 31357, 29916, 29943, 29473, 31293, 30668, 29473, 29518, 1093, 30894, 30985, 31055, 30668, 1325, 29473, 29538, 1093, 29919, 30092, 30668, 1325, 29473, 29550, 1093, 1005, 951, 916, 30515, 30668, 1325, 29473, 29555, 1093, 30092, 32012, 30668, 1325, 29473, 29551, 1093, 30778, 31736, 30668, 29499, 29783, 29473, 30588, 31377, 29473, 31468, 30862, 30538, 29962, 29811, 29491, 781, 29504, 29473, 29903, 30279, 29473, 1007, 910, 953, 30306, 29473, 30421, 30455, 29493, 29473, 30346, 30489, 30050, 29473, 31293, 30668, 30612, 29473, 30004, 30880, 30959, 29916, 29473, 30402, 30194, 30073, 29943, 29473, 31547, 32231, 30368, 30394, 29473, 29929, 29904, 1007, 949, 931, 29473, 1008, 924, 907, 31214, 29783, 29929, 29500, 3617, 29491, 1099, 4387, 3011, 1079, 29491, 1883, 29491, 6943, 29499, 29968, 29473, 32227, 30609, 29904, 30004, 29932, 29473, 30908, 1006, 929, 912, 29962, 29811, 29491, 781, 29504, 29473, 32060, 30050, 29493, 29473, 31210, 30004, 29473, 31158, 29473, 30661, 30092, 29473, 31502, 32082, 30351, 29911, 29473, 29903, 29943, 29473, 30421, 30455, 30367, 29473, 30372, 30338, 29962, 29811, 29491, 29473, 29783, 29473, 30421, 30455, 29916, 29943, 1292, 1259, 5812, 1119, 1366, 2000, 29500, 31461, 31461, 30415, 29473, 30588, 30627, 30056, 32177, 29499, 30463, 7852, 1111, 8430, 29500, 31727, 29783, 30809, 29473, 1006, 938, 952, 29499, 29957, 29473, 31468, 30194, 30073, 29473, 30346, 30489, 30050, 29473, 31008, 31747, 29957, 29473, 31038, 30092, 30491, 29473, 29919, 29473, 30372, 30338, 29962, 29811, 29491, 781, 29504, 29473, 29903, 30279, 29473, 1007, 910, 953, 30306, 29473, 30421, 30455, 29493, 29473, 30512, 29955, 29473, 30001, 30245, 29968, 29473, 31544, 30402, 29911, 29473, 30919, 1007, 931, 907, 30050, 29473, 30609, 30927, 29968, 29473, 32493, 29904, 30004, 29932, 29473, 30908, 1006, 929, 912, 29962, 29811, 29491], 'total_duration': 35778936900, 'load_duration': 1960003400, 'prompt_eval_count': 17, 'prompt_eval_duration': 830851900, 'eval_count': 372, 'eval_duration': 32986980400}\n"
     ]
    }
   ],
   "execution_count": 21
  },
  {
   "metadata": {},
   "cell_type": "code",
   "outputs": [],
   "execution_count": null,
   "source": "# TTS",
   "id": "932d4087ccba3a6b"
  },
  {
   "metadata": {
    "ExecuteTime": {
     "end_time": "2025-07-07T12:57:43.311114Z",
     "start_time": "2025-07-07T12:57:43.006826Z"
    }
   },
   "cell_type": "code",
   "source": [
    "# gTTS\n",
    "from gtts import gTTS\n",
    "import os\n",
    "\n",
    " # llm의 응답을 dict -> str로 변경\n",
    "response_text = result_llm[\"response\"]\n",
    "\n",
    "# 시간체크 시작\n",
    "start = time.perf_counter()\n",
    "\n",
    "# 한국어로 음성 생성\n",
    "tts = gTTS(text=response_text, lang='ko')\n",
    "tts.save(\"C:\\\\workspaces\\\\tajo_workspace\\\\api_test\\\\output\\\\output.mp3\")\n",
    "\n",
    "# 시간체크 종료\n",
    "end = time.perf_counter()\n",
    "print(f\"⏱️ TTS 처리 시간: {end - start:.2f}초\")\n",
    "\n",
    "# 실행\n",
    "os.system(\"C:\\\\workspaces\\\\tajo_workspace\\\\api_test\\\\output\\\\output.mp3\")"
   ],
   "id": "a6d38a425af537ed",
   "outputs": [
    {
     "ename": "NameError",
     "evalue": "name 'result_llm' is not defined",
     "output_type": "error",
     "traceback": [
      "\u001B[31m---------------------------------------------------------------------------\u001B[39m",
      "\u001B[31mNameError\u001B[39m                                 Traceback (most recent call last)",
      "\u001B[36mCell\u001B[39m\u001B[36m \u001B[39m\u001B[32mIn[2]\u001B[39m\u001B[32m, line 6\u001B[39m\n\u001B[32m      3\u001B[39m \u001B[38;5;28;01mimport\u001B[39;00m\u001B[38;5;250m \u001B[39m\u001B[34;01mos\u001B[39;00m\n\u001B[32m      5\u001B[39m  \u001B[38;5;66;03m# llm의 응답을 dict -> str로 변경\u001B[39;00m\n\u001B[32m----> \u001B[39m\u001B[32m6\u001B[39m response_text = \u001B[43mresult_llm\u001B[49m[\u001B[33m\"\u001B[39m\u001B[33mresponse\u001B[39m\u001B[33m\"\u001B[39m]\n\u001B[32m      8\u001B[39m \u001B[38;5;66;03m# 시간체크 시작\u001B[39;00m\n\u001B[32m      9\u001B[39m start = time.perf_counter()\n",
      "\u001B[31mNameError\u001B[39m: name 'result_llm' is not defined"
     ]
    }
   ],
   "execution_count": 2
  },
  {
   "metadata": {},
   "cell_type": "code",
   "outputs": [],
   "execution_count": null,
   "source": "",
   "id": "acbfab998a9855d0"
  }
 ],
 "metadata": {
  "kernelspec": {
   "display_name": "Python 3",
   "language": "python",
   "name": "python3"
  },
  "language_info": {
   "codemirror_mode": {
    "name": "ipython",
    "version": 2
   },
   "file_extension": ".py",
   "mimetype": "text/x-python",
   "name": "python",
   "nbconvert_exporter": "python",
   "pygments_lexer": "ipython2",
   "version": "2.7.6"
  }
 },
 "nbformat": 4,
 "nbformat_minor": 5
}
